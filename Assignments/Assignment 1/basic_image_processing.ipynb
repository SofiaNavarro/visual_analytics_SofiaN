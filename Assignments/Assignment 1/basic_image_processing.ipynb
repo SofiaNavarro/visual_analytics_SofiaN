{
 "cells": [
  {
   "cell_type": "markdown",
   "metadata": {},
   "source": [
    "## Assignment 1: Basic image processing\n",
    "\n",
    "The dataset used in this assignment consists of 10 images taken by myself during a trip to China in 2016.\n",
    "\n",
    "Author: Sofia Navarro\n",
    "\n",
    "Date: 9/2/2021\n",
    "\n",
    "Visual Analytics"
   ]
  },
  {
   "cell_type": "code",
   "execution_count": 66,
   "metadata": {},
   "outputs": [],
   "source": [
    "# Before we start, the necessary packages and libraries are imported and loaded\n",
    "\n",
    "import os\n",
    "import numpy as np\n",
    "import sys\n",
    "sys.path.append(os.path.join(\"..\", ))\n",
    "import cv2\n",
    "from utils.imutils import jimshow\n",
    "from pathlib import Path"
   ]
  },
  {
   "cell_type": "code",
   "execution_count": 71,
   "metadata": {},
   "outputs": [],
   "source": [
    "# Here I define the different paths I will need in my for loop\n",
    "\n",
    "dir_image = os.path.join(\"..\", \"data\", \"assOne_images\") # point to the directory where the original images reside\n",
    "info_images = os.path.join(\"..\", \"data\", \"assOne_images\", \"image_shape.csv\") # make a csv file for the metadata info on images\n",
    "new_path = os.path.join(\"..\", \"data\", \"output_images\") # Outpath where the sliced images are stored"
   ]
  },
  {
   "cell_type": "code",
   "execution_count": 72,
   "metadata": {
    "scrolled": false
   },
   "outputs": [],
   "source": [
    "# Before my loop begins I write the titles for the csv file\n",
    "# which will include the filename, height, width and channels \n",
    "# of each sliced image\n",
    "\n",
    "titles =  \" \".join([\"filename\", \"heigth\", \"width\", \"channels\"])\n",
    "\n",
    "# I then save the titles in the info_images file\n",
    "\n",
    "with open(info_images, \"w\", encoding=\"utf-8\") as file:\n",
    "        file.write(titles + \"\\n\")\n",
    "\n",
    "\n",
    "for image in Path(dir_image).glob(\"*.JPG\"): # A loop that runs through every image in the image_path directory\n",
    "    image_open = cv2.imread(str(image)) # Reads all the images in the folder\n",
    "    height, width, _ = image_open.shape # define height, width and channels as a dummy variable, since I won't be needing it.\n",
    "    top_left = image_open[0:height//2, 0:width//2] # Slice images\n",
    "    top_right = image_open[0:height//2, width//2:width] # Slice images\n",
    "    bottom_left = image_open[height//2:height, 0:width//2] # Slice images\n",
    "    bottom_right = image_open[height//2:height, width//2:width] # Slice images\n",
    "    \n",
    "    # Now I have to take some steps before I can save the sliced images\n",
    "    \n",
    "    path, filename = os.path.split(image) # split the path into path and filename\n",
    "    basename, extension = os.path.splitext(filename) # Further split the filename into a basename and .JPG\n",
    "    outpath_tl = os.path.join(new_path, basename + \"_Top_left\" + extension) # Make filename for split image\n",
    "    outpath_tr = os.path.join(new_path, basename + \"_Top_right\" + extension) # Make filename for split image\n",
    "    outpath_bl = os.path.join(new_path, basename + \"_Bottom_left\" + extension) # Make filename for split image\n",
    "    outpath_br = os.path.join(new_path, basename + \"_Bottom_right\" + extension) # Make filename for split image\n",
    "    \n",
    "    # Save the four equal sized slices of the images\n",
    "    \n",
    "    cv2.imwrite(outpath_tl, top_left)\n",
    "    cv2.imwrite(outpath_tr, top_right)\n",
    "    cv2.imwrite(outpath_bl, bottom_left)\n",
    "    cv2.imwrite(outpath_br, bottom_right)\n",
    "    \n",
    "    # Make a list of all the filenames \n",
    "    # with the height, width and number of channels included\n",
    "    # and save it in the csv file made earlier:\n",
    "    \n",
    "    info = [(basename + \"_Top_left\" + extension + \" \" + str(height//2) + \" \" + str(width//2) + \" \" + str(_) + \"\\n\"),\n",
    "            (basename + \"_Top_right\" + extension + \" \" + str(height//2) + \" \" + str(width//2) + \" \" + str(_) + \"\\n\"),\n",
    "            (basename + \"_Bottom_left\" + extension + \" \" + str(height//2) + \" \" + str(width//2) + \" \" + str(_) + \"\\n\"),\n",
    "            (basename + \"_Bottom_right\" + extension + \" \" + str(height//2) + \" \" + str(width//2) + \" \" + str(_) + \"\\n\")]\n",
    "    save_info = \"\".join(info)\n",
    "    \n",
    "    with open(info_images, \"a\", encoding= \"utf-8\") as file:\n",
    "        file.write(save_info + \"\\n\")"
   ]
  }
 ],
 "metadata": {
  "kernelspec": {
   "display_name": "cv101",
   "language": "python",
   "name": "cv101"
  },
  "language_info": {
   "codemirror_mode": {
    "name": "ipython",
    "version": 3
   },
   "file_extension": ".py",
   "mimetype": "text/x-python",
   "name": "python",
   "nbconvert_exporter": "python",
   "pygments_lexer": "ipython3",
   "version": "3.6.9"
  }
 },
 "nbformat": 4,
 "nbformat_minor": 4
}
